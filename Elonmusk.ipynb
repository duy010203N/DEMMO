{
 "cells": [
  {
   "cell_type": "code",
   "execution_count": 1,
   "id": "649523ba-2351-4d0a-b709-93c4862e4834",
   "metadata": {},
   "outputs": [],
   "source": [
    "# This Python 3 environment comes with many helpful analytics libraries installed\n",
    "# It is defined by the kaggle/python Docker image: https://github.com/kaggle/docker-python\n",
    "# For example, here's several helpful packages to load\n",
    "\n",
    "import numpy as np # linear algebra\n",
    "import pandas as pd # data processing, CSV file I/O (e.g. pd.read_csv)\n",
    "import matplotlib.pyplot as plt\n",
    "\n",
    "# Input data files are available in the read-only \"../input/\" directory\n",
    "# For example, running this (by clicking run or pressing Shift+Enter) will list all files under the input directory\n",
    "\n",
    "import os\n",
    "for dirname, _, filenames in os.walk('/kaggle/input'):\n",
    "    for filename in filenames:\n",
    "        print(os.path.join(dirname, filename))\n",
    "\n",
    "# You can write up to 20GB to the current directory (/kaggle/working/) that gets preserved as output when you create a version using \"Save & Run All\" \n",
    "# You can also write temporary files to /kaggle/temp/, but they won't be saved outside of the current session"
   ]
  },
  {
   "cell_type": "code",
   "execution_count": 2,
   "id": "cb6c1444-1cc8-4324-afca-721c4bbef7a2",
   "metadata": {},
   "outputs": [],
   "source": [
    "tweets = pd.read_csv(\"elonmusk.csv\")\n"
   ]
  },
  {
   "cell_type": "code",
   "execution_count": 3,
   "id": "e41718c9-c727-4000-852c-eafe14239ddf",
   "metadata": {},
   "outputs": [
    {
     "data": {
      "text/html": [
       "<div>\n",
       "<style scoped>\n",
       "    .dataframe tbody tr th:only-of-type {\n",
       "        vertical-align: middle;\n",
       "    }\n",
       "\n",
       "    .dataframe tbody tr th {\n",
       "        vertical-align: top;\n",
       "    }\n",
       "\n",
       "    .dataframe thead th {\n",
       "        text-align: right;\n",
       "    }\n",
       "</style>\n",
       "<table border=\"1\" class=\"dataframe\">\n",
       "  <thead>\n",
       "    <tr style=\"text-align: right;\">\n",
       "      <th></th>\n",
       "      <th>Date Created</th>\n",
       "      <th>Number of Likes</th>\n",
       "      <th>Source of Tweet</th>\n",
       "      <th>Tweets</th>\n",
       "    </tr>\n",
       "  </thead>\n",
       "  <tbody>\n",
       "    <tr>\n",
       "      <th>0</th>\n",
       "      <td>2022-09-12 05:44:11+00:00</td>\n",
       "      <td>1524</td>\n",
       "      <td>Twitter for iPhone</td>\n",
       "      <td>@teslaownersSV @cb_doge @Tesla @mayemusk I gue...</td>\n",
       "    </tr>\n",
       "    <tr>\n",
       "      <th>1</th>\n",
       "      <td>2022-09-12 05:43:02+00:00</td>\n",
       "      <td>19631</td>\n",
       "      <td>Twitter for iPhone</td>\n",
       "      <td>@cb_doge @Tesla @mayemusk Still doing same thi...</td>\n",
       "    </tr>\n",
       "    <tr>\n",
       "      <th>2</th>\n",
       "      <td>2022-09-12 04:19:57+00:00</td>\n",
       "      <td>9221</td>\n",
       "      <td>Twitter for iPhone</td>\n",
       "      <td>Looks good to roll out to all Tesla owners wit...</td>\n",
       "    </tr>\n",
       "    <tr>\n",
       "      <th>3</th>\n",
       "      <td>2022-09-12 03:25:03+00:00</td>\n",
       "      <td>944</td>\n",
       "      <td>Twitter for iPhone</td>\n",
       "      <td>@Tesla__Mania @WholeMarsBlog That is probably ...</td>\n",
       "    </tr>\n",
       "    <tr>\n",
       "      <th>4</th>\n",
       "      <td>2022-09-12 01:48:49+00:00</td>\n",
       "      <td>3710</td>\n",
       "      <td>Twitter for iPhone</td>\n",
       "      <td>@WholeMarsBlog Real-world validation &amp;amp; bil...</td>\n",
       "    </tr>\n",
       "    <tr>\n",
       "      <th>...</th>\n",
       "      <td>...</td>\n",
       "      <td>...</td>\n",
       "      <td>...</td>\n",
       "      <td>...</td>\n",
       "    </tr>\n",
       "    <tr>\n",
       "      <th>17432</th>\n",
       "      <td>2011-12-03 08:22:07+00:00</td>\n",
       "      <td>51</td>\n",
       "      <td>Twitter for iPhone</td>\n",
       "      <td>That was a total non sequitur btw</td>\n",
       "    </tr>\n",
       "    <tr>\n",
       "      <th>17433</th>\n",
       "      <td>2011-12-03 08:20:28+00:00</td>\n",
       "      <td>53</td>\n",
       "      <td>Twitter for iPhone</td>\n",
       "      <td>Great Voltaire quote, arguably better than Twa...</td>\n",
       "    </tr>\n",
       "    <tr>\n",
       "      <th>17434</th>\n",
       "      <td>2011-12-01 10:29:04+00:00</td>\n",
       "      <td>75</td>\n",
       "      <td>Twitter Web Client</td>\n",
       "      <td>I made the volume on the Model S http://t.co/w...</td>\n",
       "    </tr>\n",
       "    <tr>\n",
       "      <th>17435</th>\n",
       "      <td>2011-12-01 09:55:11+00:00</td>\n",
       "      <td>189</td>\n",
       "      <td>Twitter Web Client</td>\n",
       "      <td>Went to Iceland on Sat to ride bumper cars on ...</td>\n",
       "    </tr>\n",
       "    <tr>\n",
       "      <th>17436</th>\n",
       "      <td>2010-06-04 18:31:57+00:00</td>\n",
       "      <td>6042</td>\n",
       "      <td>Twitter Web Client</td>\n",
       "      <td>Please ignore prior tweets, as that was someon...</td>\n",
       "    </tr>\n",
       "  </tbody>\n",
       "</table>\n",
       "<p>17437 rows × 4 columns</p>\n",
       "</div>"
      ],
      "text/plain": [
       "                    Date Created  Number of Likes     Source of Tweet  \\\n",
       "0      2022-09-12 05:44:11+00:00             1524  Twitter for iPhone   \n",
       "1      2022-09-12 05:43:02+00:00            19631  Twitter for iPhone   \n",
       "2      2022-09-12 04:19:57+00:00             9221  Twitter for iPhone   \n",
       "3      2022-09-12 03:25:03+00:00              944  Twitter for iPhone   \n",
       "4      2022-09-12 01:48:49+00:00             3710  Twitter for iPhone   \n",
       "...                          ...              ...                 ...   \n",
       "17432  2011-12-03 08:22:07+00:00               51  Twitter for iPhone   \n",
       "17433  2011-12-03 08:20:28+00:00               53  Twitter for iPhone   \n",
       "17434  2011-12-01 10:29:04+00:00               75  Twitter Web Client   \n",
       "17435  2011-12-01 09:55:11+00:00              189  Twitter Web Client   \n",
       "17436  2010-06-04 18:31:57+00:00             6042  Twitter Web Client   \n",
       "\n",
       "                                                  Tweets  \n",
       "0      @teslaownersSV @cb_doge @Tesla @mayemusk I gue...  \n",
       "1      @cb_doge @Tesla @mayemusk Still doing same thi...  \n",
       "2      Looks good to roll out to all Tesla owners wit...  \n",
       "3      @Tesla__Mania @WholeMarsBlog That is probably ...  \n",
       "4      @WholeMarsBlog Real-world validation &amp; bil...  \n",
       "...                                                  ...  \n",
       "17432                  That was a total non sequitur btw  \n",
       "17433  Great Voltaire quote, arguably better than Twa...  \n",
       "17434  I made the volume on the Model S http://t.co/w...  \n",
       "17435  Went to Iceland on Sat to ride bumper cars on ...  \n",
       "17436  Please ignore prior tweets, as that was someon...  \n",
       "\n",
       "[17437 rows x 4 columns]"
      ]
     },
     "execution_count": 3,
     "metadata": {},
     "output_type": "execute_result"
    }
   ],
   "source": [
    "tweets\n"
   ]
  },
  {
   "cell_type": "code",
   "execution_count": 4,
   "id": "590ed1a3-7cd4-4520-80ae-33eecd4b7a4d",
   "metadata": {},
   "outputs": [
    {
     "data": {
      "text/html": [
       "<div>\n",
       "<style scoped>\n",
       "    .dataframe tbody tr th:only-of-type {\n",
       "        vertical-align: middle;\n",
       "    }\n",
       "\n",
       "    .dataframe tbody tr th {\n",
       "        vertical-align: top;\n",
       "    }\n",
       "\n",
       "    .dataframe thead th {\n",
       "        text-align: right;\n",
       "    }\n",
       "</style>\n",
       "<table border=\"1\" class=\"dataframe\">\n",
       "  <thead>\n",
       "    <tr style=\"text-align: right;\">\n",
       "      <th></th>\n",
       "      <th>Date Created</th>\n",
       "      <th>Number of Likes</th>\n",
       "      <th>Source of Tweet</th>\n",
       "      <th>Tweets</th>\n",
       "    </tr>\n",
       "  </thead>\n",
       "  <tbody>\n",
       "    <tr>\n",
       "      <th>0</th>\n",
       "      <td>2022-09-12 05:44:11+00:00</td>\n",
       "      <td>1524</td>\n",
       "      <td>Twitter for iPhone</td>\n",
       "      <td>@teslaownersSV @cb_doge @Tesla @mayemusk I gue...</td>\n",
       "    </tr>\n",
       "    <tr>\n",
       "      <th>1</th>\n",
       "      <td>2022-09-12 05:43:02+00:00</td>\n",
       "      <td>19631</td>\n",
       "      <td>Twitter for iPhone</td>\n",
       "      <td>@cb_doge @Tesla @mayemusk Still doing same thi...</td>\n",
       "    </tr>\n",
       "    <tr>\n",
       "      <th>2</th>\n",
       "      <td>2022-09-12 04:19:57+00:00</td>\n",
       "      <td>9221</td>\n",
       "      <td>Twitter for iPhone</td>\n",
       "      <td>Looks good to roll out to all Tesla owners wit...</td>\n",
       "    </tr>\n",
       "    <tr>\n",
       "      <th>3</th>\n",
       "      <td>2022-09-12 03:25:03+00:00</td>\n",
       "      <td>944</td>\n",
       "      <td>Twitter for iPhone</td>\n",
       "      <td>@Tesla__Mania @WholeMarsBlog That is probably ...</td>\n",
       "    </tr>\n",
       "    <tr>\n",
       "      <th>4</th>\n",
       "      <td>2022-09-12 01:48:49+00:00</td>\n",
       "      <td>3710</td>\n",
       "      <td>Twitter for iPhone</td>\n",
       "      <td>@WholeMarsBlog Real-world validation &amp;amp; bil...</td>\n",
       "    </tr>\n",
       "    <tr>\n",
       "      <th>...</th>\n",
       "      <td>...</td>\n",
       "      <td>...</td>\n",
       "      <td>...</td>\n",
       "      <td>...</td>\n",
       "    </tr>\n",
       "    <tr>\n",
       "      <th>17432</th>\n",
       "      <td>2011-12-03 08:22:07+00:00</td>\n",
       "      <td>51</td>\n",
       "      <td>Twitter for iPhone</td>\n",
       "      <td>That was a total non sequitur btw</td>\n",
       "    </tr>\n",
       "    <tr>\n",
       "      <th>17433</th>\n",
       "      <td>2011-12-03 08:20:28+00:00</td>\n",
       "      <td>53</td>\n",
       "      <td>Twitter for iPhone</td>\n",
       "      <td>Great Voltaire quote, arguably better than Twa...</td>\n",
       "    </tr>\n",
       "    <tr>\n",
       "      <th>17434</th>\n",
       "      <td>2011-12-01 10:29:04+00:00</td>\n",
       "      <td>75</td>\n",
       "      <td>Twitter Web Client</td>\n",
       "      <td>I made the volume on the Model S http://t.co/w...</td>\n",
       "    </tr>\n",
       "    <tr>\n",
       "      <th>17435</th>\n",
       "      <td>2011-12-01 09:55:11+00:00</td>\n",
       "      <td>189</td>\n",
       "      <td>Twitter Web Client</td>\n",
       "      <td>Went to Iceland on Sat to ride bumper cars on ...</td>\n",
       "    </tr>\n",
       "    <tr>\n",
       "      <th>17436</th>\n",
       "      <td>2010-06-04 18:31:57+00:00</td>\n",
       "      <td>6042</td>\n",
       "      <td>Twitter Web Client</td>\n",
       "      <td>Please ignore prior tweets, as that was someon...</td>\n",
       "    </tr>\n",
       "  </tbody>\n",
       "</table>\n",
       "<p>17437 rows × 4 columns</p>\n",
       "</div>"
      ],
      "text/plain": [
       "                    Date Created  Number of Likes     Source of Tweet  \\\n",
       "0      2022-09-12 05:44:11+00:00             1524  Twitter for iPhone   \n",
       "1      2022-09-12 05:43:02+00:00            19631  Twitter for iPhone   \n",
       "2      2022-09-12 04:19:57+00:00             9221  Twitter for iPhone   \n",
       "3      2022-09-12 03:25:03+00:00              944  Twitter for iPhone   \n",
       "4      2022-09-12 01:48:49+00:00             3710  Twitter for iPhone   \n",
       "...                          ...              ...                 ...   \n",
       "17432  2011-12-03 08:22:07+00:00               51  Twitter for iPhone   \n",
       "17433  2011-12-03 08:20:28+00:00               53  Twitter for iPhone   \n",
       "17434  2011-12-01 10:29:04+00:00               75  Twitter Web Client   \n",
       "17435  2011-12-01 09:55:11+00:00              189  Twitter Web Client   \n",
       "17436  2010-06-04 18:31:57+00:00             6042  Twitter Web Client   \n",
       "\n",
       "                                                  Tweets  \n",
       "0      @teslaownersSV @cb_doge @Tesla @mayemusk I gue...  \n",
       "1      @cb_doge @Tesla @mayemusk Still doing same thi...  \n",
       "2      Looks good to roll out to all Tesla owners wit...  \n",
       "3      @Tesla__Mania @WholeMarsBlog That is probably ...  \n",
       "4      @WholeMarsBlog Real-world validation &amp; bil...  \n",
       "...                                                  ...  \n",
       "17432                  That was a total non sequitur btw  \n",
       "17433  Great Voltaire quote, arguably better than Twa...  \n",
       "17434  I made the volume on the Model S http://t.co/w...  \n",
       "17435  Went to Iceland on Sat to ride bumper cars on ...  \n",
       "17436  Please ignore prior tweets, as that was someon...  \n",
       "\n",
       "[17437 rows x 4 columns]"
      ]
     },
     "execution_count": 4,
     "metadata": {},
     "output_type": "execute_result"
    }
   ],
   "source": [
    "tweets\n"
   ]
  },
  {
   "cell_type": "code",
   "execution_count": 5,
   "id": "f50d7df5-4030-4447-9e07-bd02621962d3",
   "metadata": {},
   "outputs": [
    {
     "data": {
      "text/plain": [
       "RangeIndex(start=0, stop=17437, step=1)"
      ]
     },
     "execution_count": 5,
     "metadata": {},
     "output_type": "execute_result"
    }
   ],
   "source": [
    "tweets.index\n"
   ]
  },
  {
   "cell_type": "code",
   "execution_count": 6,
   "id": "aa7ca551-2a9c-4f0e-bc81-b4432a6cde84",
   "metadata": {},
   "outputs": [
    {
     "data": {
      "text/plain": [
       "17436    2010-06-04 18:31:57+00:00\n",
       "17435    2011-12-01 09:55:11+00:00\n",
       "17434    2011-12-01 10:29:04+00:00\n",
       "17433    2011-12-03 08:20:28+00:00\n",
       "17432    2011-12-03 08:22:07+00:00\n",
       "                   ...            \n",
       "4        2022-09-12 01:48:49+00:00\n",
       "3        2022-09-12 03:25:03+00:00\n",
       "2        2022-09-12 04:19:57+00:00\n",
       "1        2022-09-12 05:43:02+00:00\n",
       "0        2022-09-12 05:44:11+00:00\n",
       "Name: Date Created, Length: 17437, dtype: object"
      ]
     },
     "execution_count": 6,
     "metadata": {},
     "output_type": "execute_result"
    }
   ],
   "source": [
    "tweets[\"Date Created\"].sort_values()"
   ]
  },
  {
   "cell_type": "code",
   "execution_count": 7,
   "id": "87e11b49-96c6-4282-aee3-1fe24f95a1d5",
   "metadata": {},
   "outputs": [
    {
     "data": {
      "text/plain": [
       "Source of Tweet\n",
       "Twitter for iPhone      16875\n",
       "Twitter Web Client        402\n",
       "Instagram                  93\n",
       "Twitter Web App            36\n",
       "Twitter for Websites       12\n",
       "iOS                        11\n",
       "Mobile Web                  4\n",
       "Photos on iOS               3\n",
       "Tweetlogix                  1\n",
       "Name: count, dtype: int64"
      ]
     },
     "execution_count": 7,
     "metadata": {},
     "output_type": "execute_result"
    }
   ],
   "source": [
    "tweets[\"Source of Tweet\"].value_counts()\n"
   ]
  },
  {
   "cell_type": "code",
   "execution_count": 8,
   "id": "682bcb4d-24fe-43ad-9e25-63e1ce6f8ef4",
   "metadata": {},
   "outputs": [
    {
     "data": {
      "text/plain": [
       "<Axes: title={'center': 'Source of Tweet'}, ylabel='Source of Tweet'>"
      ]
     },
     "execution_count": 8,
     "metadata": {},
     "output_type": "execute_result"
    },
    {
     "data": {
      "image/png": "[encoded data removed]",
      "text/plain": [
       "<Figure size 1000x1000 with 1 Axes>"
      ]
     },
     "metadata": {},
     "output_type": "display_data"
    }
   ],
   "source": [
    "plt.style.use('Solarize_Light2')\n",
    "tweets[\"Source of Tweet\"].value_counts().plot(kind=\"barh\",figsize=(10,10),title=\"Source of Tweet\",fontsize=15)"
   ]
  },
  {
   "cell_type": "code",
   "execution_count": 9,
   "id": "56c3eb3b-11ca-4b51-8b09-69b78fd42eee",
   "metadata": {},
   "outputs": [
    {
     "data": {
      "text/html": [
       "<div>\n",
       "<style scoped>\n",
       "    .dataframe tbody tr th:only-of-type {\n",
       "        vertical-align: middle;\n",
       "    }\n",
       "\n",
       "    .dataframe tbody tr th {\n",
       "        vertical-align: top;\n",
       "    }\n",
       "\n",
       "    .dataframe thead th {\n",
       "        text-align: right;\n",
       "    }\n",
       "</style>\n",
       "<table border=\"1\" class=\"dataframe\">\n",
       "  <thead>\n",
       "    <tr style=\"text-align: right;\">\n",
       "      <th></th>\n",
       "      <th>Date Created</th>\n",
       "      <th>Number of Likes</th>\n",
       "      <th>Source of Tweet</th>\n",
       "      <th>Tweets</th>\n",
       "    </tr>\n",
       "  </thead>\n",
       "  <tbody>\n",
       "    <tr>\n",
       "      <th>0</th>\n",
       "      <td>2022-09-12 05:44:11+00:00</td>\n",
       "      <td>1524</td>\n",
       "      <td>Twitter for iPhone</td>\n",
       "      <td>@teslaownersSV @cb_doge @Tesla @mayemusk I gue...</td>\n",
       "    </tr>\n",
       "    <tr>\n",
       "      <th>1</th>\n",
       "      <td>2022-09-12 05:43:02+00:00</td>\n",
       "      <td>19631</td>\n",
       "      <td>Twitter for iPhone</td>\n",
       "      <td>@cb_doge @Tesla @mayemusk Still doing same thi...</td>\n",
       "    </tr>\n",
       "    <tr>\n",
       "      <th>2</th>\n",
       "      <td>2022-09-12 04:19:57+00:00</td>\n",
       "      <td>9221</td>\n",
       "      <td>Twitter for iPhone</td>\n",
       "      <td>Looks good to roll out to all Tesla owners wit...</td>\n",
       "    </tr>\n",
       "    <tr>\n",
       "      <th>3</th>\n",
       "      <td>2022-09-12 03:25:03+00:00</td>\n",
       "      <td>944</td>\n",
       "      <td>Twitter for iPhone</td>\n",
       "      <td>@Tesla__Mania @WholeMarsBlog That is probably ...</td>\n",
       "    </tr>\n",
       "    <tr>\n",
       "      <th>4</th>\n",
       "      <td>2022-09-12 01:48:49+00:00</td>\n",
       "      <td>3710</td>\n",
       "      <td>Twitter for iPhone</td>\n",
       "      <td>@WholeMarsBlog Real-world validation &amp;amp; bil...</td>\n",
       "    </tr>\n",
       "    <tr>\n",
       "      <th>...</th>\n",
       "      <td>...</td>\n",
       "      <td>...</td>\n",
       "      <td>...</td>\n",
       "      <td>...</td>\n",
       "    </tr>\n",
       "    <tr>\n",
       "      <th>17432</th>\n",
       "      <td>2011-12-03 08:22:07+00:00</td>\n",
       "      <td>51</td>\n",
       "      <td>Twitter for iPhone</td>\n",
       "      <td>That was a total non sequitur btw</td>\n",
       "    </tr>\n",
       "    <tr>\n",
       "      <th>17433</th>\n",
       "      <td>2011-12-03 08:20:28+00:00</td>\n",
       "      <td>53</td>\n",
       "      <td>Twitter for iPhone</td>\n",
       "      <td>Great Voltaire quote, arguably better than Twa...</td>\n",
       "    </tr>\n",
       "    <tr>\n",
       "      <th>17434</th>\n",
       "      <td>2011-12-01 10:29:04+00:00</td>\n",
       "      <td>75</td>\n",
       "      <td>Twitter Web Client</td>\n",
       "      <td>I made the volume on the Model S http://t.co/w...</td>\n",
       "    </tr>\n",
       "    <tr>\n",
       "      <th>17435</th>\n",
       "      <td>2011-12-01 09:55:11+00:00</td>\n",
       "      <td>189</td>\n",
       "      <td>Twitter Web Client</td>\n",
       "      <td>Went to Iceland on Sat to ride bumper cars on ...</td>\n",
       "    </tr>\n",
       "    <tr>\n",
       "      <th>17436</th>\n",
       "      <td>2010-06-04 18:31:57+00:00</td>\n",
       "      <td>6042</td>\n",
       "      <td>Twitter Web Client</td>\n",
       "      <td>Please ignore prior tweets, as that was someon...</td>\n",
       "    </tr>\n",
       "  </tbody>\n",
       "</table>\n",
       "<p>17437 rows × 4 columns</p>\n",
       "</div>"
      ],
      "text/plain": [
       "                    Date Created  Number of Likes     Source of Tweet  \\\n",
       "0      2022-09-12 05:44:11+00:00             1524  Twitter for iPhone   \n",
       "1      2022-09-12 05:43:02+00:00            19631  Twitter for iPhone   \n",
       "2      2022-09-12 04:19:57+00:00             9221  Twitter for iPhone   \n",
       "3      2022-09-12 03:25:03+00:00              944  Twitter for iPhone   \n",
       "4      2022-09-12 01:48:49+00:00             3710  Twitter for iPhone   \n",
       "...                          ...              ...                 ...   \n",
       "17432  2011-12-03 08:22:07+00:00               51  Twitter for iPhone   \n",
       "17433  2011-12-03 08:20:28+00:00               53  Twitter for iPhone   \n",
       "17434  2011-12-01 10:29:04+00:00               75  Twitter Web Client   \n",
       "17435  2011-12-01 09:55:11+00:00              189  Twitter Web Client   \n",
       "17436  2010-06-04 18:31:57+00:00             6042  Twitter Web Client   \n",
       "\n",
       "                                                  Tweets  \n",
       "0      @teslaownersSV @cb_doge @Tesla @mayemusk I gue...  \n",
       "1      @cb_doge @Tesla @mayemusk Still doing same thi...  \n",
       "2      Looks good to roll out to all Tesla owners wit...  \n",
       "3      @Tesla__Mania @WholeMarsBlog That is probably ...  \n",
       "4      @WholeMarsBlog Real-world validation &amp; bil...  \n",
       "...                                                  ...  \n",
       "17432                  That was a total non sequitur btw  \n",
       "17433  Great Voltaire quote, arguably better than Twa...  \n",
       "17434  I made the volume on the Model S http://t.co/w...  \n",
       "17435  Went to Iceland on Sat to ride bumper cars on ...  \n",
       "17436  Please ignore prior tweets, as that was someon...  \n",
       "\n",
       "[17437 rows x 4 columns]"
      ]
     },
     "execution_count": 9,
     "metadata": {},
     "output_type": "execute_result"
    }
   ],
   "source": [
    "tweets\n"
   ]
  },
  {
   "cell_type": "code",
   "execution_count": 10,
   "id": "1e53bfde-3d6a-46e1-b217-cfc90a37db63",
   "metadata": {},
   "outputs": [
    {
     "data": {
      "text/plain": [
       "1602     4812557\n",
       "1627     3259198\n",
       "1599     2673383\n",
       "1626     2629536\n",
       "1598     2600911\n",
       "          ...   \n",
       "16910          3\n",
       "16948          3\n",
       "16947          3\n",
       "16937          3\n",
       "17015          3\n",
       "Name: Number of Likes, Length: 17437, dtype: int64"
      ]
     },
     "execution_count": 10,
     "metadata": {},
     "output_type": "execute_result"
    }
   ],
   "source": [
    "tweets[\"Number of Likes\"].sort_values(ascending=False)\n"
   ]
  },
  {
   "cell_type": "code",
   "execution_count": 11,
   "id": "f03b2106-098c-4d3a-8fce-b2f023c70352",
   "metadata": {},
   "outputs": [
    {
     "data": {
      "text/plain": [
       "Date Created                               2022-04-28 00:56:58+00:00\n",
       "Number of Likes                                              4812557\n",
       "Source of Tweet                                   Twitter for iPhone\n",
       "Tweets             Next I’m buying Coca-Cola to put the cocaine b...\n",
       "Name: 1602, dtype: object"
      ]
     },
     "execution_count": 11,
     "metadata": {},
     "output_type": "execute_result"
    }
   ],
   "source": [
    "    tweets.iloc[1602]\n"
   ]
  },
  {
   "cell_type": "code",
   "execution_count": 12,
   "id": "eb416244-20ae-4526-976c-51d0c089297f",
   "metadata": {},
   "outputs": [
    {
     "data": {
      "text/plain": [
       "'Next I’m buying Coca-Cola to put the cocaine back in'"
      ]
     },
     "execution_count": 12,
     "metadata": {},
     "output_type": "execute_result"
    }
   ],
   "source": [
    "tweets.iloc[1602][\"Tweets\"]\n"
   ]
  },
  {
   "cell_type": "code",
   "execution_count": 13,
   "id": "9e5e0556-536d-4e71-b1cd-2abc41551576",
   "metadata": {},
   "outputs": [
    {
     "data": {
      "text/plain": [
       "16942          3\n",
       "17015          3\n",
       "16948          3\n",
       "16910          3\n",
       "16947          3\n",
       "          ...   \n",
       "1598     2600911\n",
       "1626     2629536\n",
       "1599     2673383\n",
       "1627     3259198\n",
       "1602     4812557\n",
       "Name: Number of Likes, Length: 17437, dtype: int64"
      ]
     },
     "execution_count": 13,
     "metadata": {},
     "output_type": "execute_result"
    }
   ],
   "source": [
    "tweets[\"Number of Likes\"].sort_values()\n"
   ]
  },
  {
   "cell_type": "code",
   "execution_count": 14,
   "id": "c4125a08-2d38-411d-9f6a-49c28abe657d",
   "metadata": {},
   "outputs": [
    {
     "data": {
      "text/plain": [
       "16942    3\n",
       "17015    3\n",
       "16948    3\n",
       "16910    3\n",
       "16947    3\n",
       "Name: Number of Likes, dtype: int64"
      ]
     },
     "execution_count": 14,
     "metadata": {},
     "output_type": "execute_result"
    }
   ],
   "source": [
    "tweets[\"Number of Likes\"].sort_values().head()\n"
   ]
  },
  {
   "cell_type": "code",
   "execution_count": null,
   "id": "5c6ed376-d7a1-43f7-a6b8-eacef6623fd1",
   "metadata": {},
   "outputs": [],
   "source": []
  }
 ],
 "metadata": {
  "kernelspec": {
   "display_name": "Python 3 (ipykernel)",
   "language": "python",
   "name": "python3"
  },
  "language_info": {
   "codemirror_mode": {
    "name": "ipython",
    "version": 3
   },
   "file_extension": ".py",
   "mimetype": "text/x-python",
   "name": "python",
   "nbconvert_exporter": "python",
   "pygments_lexer": "ipython3",
   "version": "3.11.6"
  }
 },
 "nbformat": 4,
 "nbformat_minor": 5
}
